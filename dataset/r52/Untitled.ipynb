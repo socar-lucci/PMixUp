{
 "cells": [
  {
   "cell_type": "code",
   "execution_count": 1,
   "id": "afc1dae8-7f5f-4a0e-99ba-eb0f78d1baa5",
   "metadata": {},
   "outputs": [],
   "source": [
    "import pandas as pd\n",
    "import os\n",
    "from tqdm import tqdm"
   ]
  },
  {
   "cell_type": "code",
   "execution_count": 11,
   "id": "df5dce3b-9439-4814-bada-3f37b1994a0c",
   "metadata": {},
   "outputs": [],
   "source": [
    "train = pd.read_csv(\"r52-dev-stemmed.csv\")"
   ]
  },
  {
   "cell_type": "code",
   "execution_count": 12,
   "id": "d5a4faa8-fdc3-4fe3-b8f6-eb67366900f7",
   "metadata": {},
   "outputs": [
    {
     "data": {
      "text/html": [
       "<div>\n",
       "<style scoped>\n",
       "    .dataframe tbody tr th:only-of-type {\n",
       "        vertical-align: middle;\n",
       "    }\n",
       "\n",
       "    .dataframe tbody tr th {\n",
       "        vertical-align: top;\n",
       "    }\n",
       "\n",
       "    .dataframe thead th {\n",
       "        text-align: right;\n",
       "    }\n",
       "</style>\n",
       "<table border=\"1\" class=\"dataframe\">\n",
       "  <thead>\n",
       "    <tr style=\"text-align: right;\">\n",
       "      <th></th>\n",
       "      <th>text</th>\n",
       "      <th>edge</th>\n",
       "      <th>intent</th>\n",
       "    </tr>\n",
       "  </thead>\n",
       "  <tbody>\n",
       "    <tr>\n",
       "      <th>0</th>\n",
       "      <td>conolog corp cnlg qtr jan net shr two ct two c...</td>\n",
       "      <td>conolog corp cnlg qtr jan net shr two ct two c...</td>\n",
       "      <td>earn</td>\n",
       "    </tr>\n",
       "    <tr>\n",
       "      <th>1</th>\n",
       "      <td>banker trust rais prime lend rate banker trust...</td>\n",
       "      <td>banker trust rais prime lend rate banker trust...</td>\n",
       "      <td>interest</td>\n",
       "    </tr>\n",
       "    <tr>\n",
       "      <th>2</th>\n",
       "      <td>boatmen nation bank boat rais prime boatmen ba...</td>\n",
       "      <td>boatmen nation bank boat rais prime boatmen ba...</td>\n",
       "      <td>interest</td>\n",
       "    </tr>\n",
       "    <tr>\n",
       "      <th>3</th>\n",
       "      <td>unicorp vote stake hike union enterpris union ...</td>\n",
       "      <td>unicorp vote stake hike union enterpris union ...</td>\n",
       "      <td>acq</td>\n",
       "    </tr>\n",
       "    <tr>\n",
       "      <th>4</th>\n",
       "      <td>starrett hous corp sho qtr net oper shr ct ct ...</td>\n",
       "      <td>starrett hous corp sho qtr net oper shr ct ct ...</td>\n",
       "      <td>earn</td>\n",
       "    </tr>\n",
       "  </tbody>\n",
       "</table>\n",
       "</div>"
      ],
      "text/plain": [
       "                                                text  \\\n",
       "0  conolog corp cnlg qtr jan net shr two ct two c...   \n",
       "1  banker trust rais prime lend rate banker trust...   \n",
       "2  boatmen nation bank boat rais prime boatmen ba...   \n",
       "3  unicorp vote stake hike union enterpris union ...   \n",
       "4  starrett hous corp sho qtr net oper shr ct ct ...   \n",
       "\n",
       "                                                edge    intent  \n",
       "0  conolog corp cnlg qtr jan net shr two ct two c...      earn  \n",
       "1  banker trust rais prime lend rate banker trust...  interest  \n",
       "2  boatmen nation bank boat rais prime boatmen ba...  interest  \n",
       "3  unicorp vote stake hike union enterpris union ...       acq  \n",
       "4  starrett hous corp sho qtr net oper shr ct ct ...      earn  "
      ]
     },
     "execution_count": 12,
     "metadata": {},
     "output_type": "execute_result"
    }
   ],
   "source": [
    "train.head()"
   ]
  },
  {
   "cell_type": "code",
   "execution_count": 13,
   "id": "8d6f15e5-e3c7-4768-8a84-34fd1dea1070",
   "metadata": {},
   "outputs": [
    {
     "data": {
      "text/html": [
       "<div>\n",
       "<style scoped>\n",
       "    .dataframe tbody tr th:only-of-type {\n",
       "        vertical-align: middle;\n",
       "    }\n",
       "\n",
       "    .dataframe tbody tr th {\n",
       "        vertical-align: top;\n",
       "    }\n",
       "\n",
       "    .dataframe thead th {\n",
       "        text-align: right;\n",
       "    }\n",
       "</style>\n",
       "<table border=\"1\" class=\"dataframe\">\n",
       "  <thead>\n",
       "    <tr style=\"text-align: right;\">\n",
       "      <th></th>\n",
       "      <th>text</th>\n",
       "      <th>label</th>\n",
       "    </tr>\n",
       "  </thead>\n",
       "  <tbody>\n",
       "    <tr>\n",
       "      <th>0</th>\n",
       "      <td>conolog corp cnlg qtr jan net shr two ct two c...</td>\n",
       "      <td>earn</td>\n",
       "    </tr>\n",
       "    <tr>\n",
       "      <th>1</th>\n",
       "      <td>banker trust rais prime lend rate banker trust...</td>\n",
       "      <td>interest</td>\n",
       "    </tr>\n",
       "    <tr>\n",
       "      <th>2</th>\n",
       "      <td>boatmen nation bank boat rais prime boatmen ba...</td>\n",
       "      <td>interest</td>\n",
       "    </tr>\n",
       "    <tr>\n",
       "      <th>3</th>\n",
       "      <td>unicorp vote stake hike union enterpris union ...</td>\n",
       "      <td>acq</td>\n",
       "    </tr>\n",
       "    <tr>\n",
       "      <th>4</th>\n",
       "      <td>starrett hous corp sho qtr net oper shr ct ct ...</td>\n",
       "      <td>earn</td>\n",
       "    </tr>\n",
       "  </tbody>\n",
       "</table>\n",
       "</div>"
      ],
      "text/plain": [
       "                                                text     label\n",
       "0  conolog corp cnlg qtr jan net shr two ct two c...      earn\n",
       "1  banker trust rais prime lend rate banker trust...  interest\n",
       "2  boatmen nation bank boat rais prime boatmen ba...  interest\n",
       "3  unicorp vote stake hike union enterpris union ...       acq\n",
       "4  starrett hous corp sho qtr net oper shr ct ct ...      earn"
      ]
     },
     "execution_count": 13,
     "metadata": {},
     "output_type": "execute_result"
    }
   ],
   "source": [
    "new_df = pd.DataFrame({\"text\": train['text'].tolist(), \"label\":train['intent'].tolist()})\n",
    "new_df.head()"
   ]
  },
  {
   "cell_type": "code",
   "execution_count": 14,
   "id": "af87b90b-b566-46d1-b353-ebebf3cb7a6d",
   "metadata": {},
   "outputs": [],
   "source": [
    "new_df.to_csv(\"dev.csv\",index=False)"
   ]
  },
  {
   "cell_type": "code",
   "execution_count": null,
   "id": "588dd5b0-f88c-44c5-ae63-3ffa5021d90d",
   "metadata": {},
   "outputs": [],
   "source": []
  }
 ],
 "metadata": {
  "kernelspec": {
   "display_name": "pt",
   "language": "python",
   "name": "pt"
  },
  "language_info": {
   "codemirror_mode": {
    "name": "ipython",
    "version": 3
   },
   "file_extension": ".py",
   "mimetype": "text/x-python",
   "name": "python",
   "nbconvert_exporter": "python",
   "pygments_lexer": "ipython3",
   "version": "3.7.11"
  }
 },
 "nbformat": 4,
 "nbformat_minor": 5
}
